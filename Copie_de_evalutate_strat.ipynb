{
  "nbformat": 4,
  "nbformat_minor": 0,
  "metadata": {
    "colab": {
      "name": "Copie de evalutate_strat.ipynb",
      "provenance": [],
      "collapsed_sections": [],
      "include_colab_link": true
    },
    "kernelspec": {
      "name": "python3",
      "display_name": "Python 3"
    },
    "language_info": {
      "name": "python"
    }
  },
  "cells": [
    {
      "cell_type": "markdown",
      "metadata": {
        "id": "view-in-github",
        "colab_type": "text"
      },
      "source": [
        "<a href=\"https://colab.research.google.com/github/boujrafh/BackendConsumingRestApiToken/blob/master/Copie_de_evalutate_strat.ipynb\" target=\"_parent\"><img src=\"https://colab.research.google.com/assets/colab-badge.svg\" alt=\"Open In Colab\"/></a>"
      ]
    },
    {
      "cell_type": "code",
      "metadata": {
        "colab": {
          "base_uri": "https://localhost:8080/"
        },
        "id": "AKCU_HAbrNaX",
        "outputId": "b929f9b0-949a-4cfa-a700-aa2bb250c28b"
      },
      "source": [
        "import numpy as np\n",
        "import pandas as pd\n",
        "import matplotlib.pyplot as plt\n",
        "!pip install mplfinance\n",
        "import mplfinance as mpf\n",
        "!pip install talib-binary\n",
        "import talib as ta\n",
        "from datetime import datetime"
      ],
      "execution_count": null,
      "outputs": [
        {
          "output_type": "stream",
          "text": [
            "Requirement already satisfied: mplfinance in /usr/local/lib/python3.7/dist-packages (0.12.7a17)\n",
            "Requirement already satisfied: pandas in /usr/local/lib/python3.7/dist-packages (from mplfinance) (1.1.5)\n",
            "Requirement already satisfied: matplotlib in /usr/local/lib/python3.7/dist-packages (from mplfinance) (3.2.2)\n",
            "Requirement already satisfied: numpy>=1.11 in /usr/local/lib/python3.7/dist-packages (from matplotlib->mplfinance) (1.19.5)\n",
            "Requirement already satisfied: pyparsing!=2.0.4,!=2.1.2,!=2.1.6,>=2.0.1 in /usr/local/lib/python3.7/dist-packages (from matplotlib->mplfinance) (2.4.7)\n",
            "Requirement already satisfied: kiwisolver>=1.0.1 in /usr/local/lib/python3.7/dist-packages (from matplotlib->mplfinance) (1.3.1)\n",
            "Requirement already satisfied: python-dateutil>=2.1 in /usr/local/lib/python3.7/dist-packages (from matplotlib->mplfinance) (2.8.2)\n",
            "Requirement already satisfied: cycler>=0.10 in /usr/local/lib/python3.7/dist-packages (from matplotlib->mplfinance) (0.10.0)\n",
            "Requirement already satisfied: six in /usr/local/lib/python3.7/dist-packages (from cycler>=0.10->matplotlib->mplfinance) (1.15.0)\n",
            "Requirement already satisfied: pytz>=2017.2 in /usr/local/lib/python3.7/dist-packages (from pandas->mplfinance) (2018.9)\n",
            "Requirement already satisfied: talib-binary in /usr/local/lib/python3.7/dist-packages (0.4.19)\n",
            "Requirement already satisfied: numpy in /usr/local/lib/python3.7/dist-packages (from talib-binary) (1.19.5)\n"
          ],
          "name": "stdout"
        }
      ]
    },
    {
      "cell_type": "code",
      "metadata": {
        "id": "uZaOalyeszHG"
      },
      "source": [
        "data = pd.read_json(\"/content/drive/MyDrive/dev/BNB-USDT_1m.json\")\n",
        "df = data.rename(columns={0: \"date\", 1: \"open\", 2: \"high\", 3: \"low\", 4: \"close\", 5: \"volume\"}, inplace=False)\n"
      ],
      "execution_count": null,
      "outputs": []
    },
    {
      "cell_type": "code",
      "metadata": {
        "id": "hVD211oXteAs"
      },
      "source": [
        "def add_flag(dataframe, add_plots, ref_name, price_ref_name, color, marker, to_add=True, shift_percent=0.01):\n",
        "    if ref_name in dataframe:\n",
        "        have_indicator = dataframe[ref_name].isin([1]).any().any()\n",
        "        if have_indicator:\n",
        "            signal_indexes = np.where(dataframe[ref_name] == 1)\n",
        "            for ssi in signal_indexes[0]:\n",
        "                if to_add:\n",
        "                    dataframe[ref_name][ssi] = (\n",
        "                            dataframe.iloc[ssi][price_ref_name] + dataframe.iloc[ssi][\n",
        "                        price_ref_name] * shift_percent)\n",
        "                else:\n",
        "                    dataframe[ref_name][ssi] = (\n",
        "                            dataframe.iloc[ssi][price_ref_name] - dataframe.iloc[ssi][\n",
        "                        price_ref_name] * shift_percent)\n",
        "\n",
        "            flags = mpf.make_addplot(dataframe[ref_name], panel=0, ylabel=ref_name, color=color,\n",
        "                                      type='scatter',\n",
        "                                      markersize=150, marker=marker)\n",
        "\n",
        "            add_plots.append(flags)\n"
      ],
      "execution_count": null,
      "outputs": []
    },
    {
      "cell_type": "code",
      "metadata": {
        "id": "jjVDILfhpVZi"
      },
      "source": [
        "df_part = df.iloc[0:].copy()"
      ],
      "execution_count": null,
      "outputs": []
    },
    {
      "cell_type": "code",
      "metadata": {
        "id": "GasqpIgAtQVo"
      },
      "source": [
        "add_plots = []"
      ],
      "execution_count": null,
      "outputs": []
    },
    {
      "cell_type": "code",
      "metadata": {
        "id": "Xo6b797zpOL2"
      },
      "source": [
        "# Stoch\n",
        "df_part[\"slowk\"], df_part[\"slowd\"] =  ta.STOCH(df_part.high, df_part.low, df_part.close)\n",
        "\n",
        "slowk = mpf.make_addplot(df_part[\"slowk\"], panel=1, ylabel='slowk', color='blue')\n",
        "add_plots.append(slowk)\n",
        "slowd = mpf.make_addplot(df_part[\"slowd\"], panel=1, ylabel='slowd', color='red')\n",
        "add_plots.append(slowd)"
      ],
      "execution_count": null,
      "outputs": []
    },
    {
      "cell_type": "code",
      "metadata": {
        "id": "Qd7qUWtitk6t"
      },
      "source": [
        "# rsi14\n",
        "df_part[\"rsi14\"] =  ta.RSI(df_part.close, 14)\n",
        "\n",
        "rsi14 = mpf.make_addplot(df_part[\"rsi14\"], panel=2, ylabel='rsi14', color='blue')\n",
        "add_plots.append(rsi14)\n",
        "\n",
        "# rsi28\n",
        "df_part[\"rsi28\"] =  ta.RSI(df_part.close, 28)\n",
        "\n",
        "rsi28 = mpf.make_addplot(df_part[\"rsi28\"], panel=2, ylabel='rsi28', color='red')\n",
        "add_plots.append(rsi28)"
      ],
      "execution_count": null,
      "outputs": []
    },
    {
      "cell_type": "code",
      "metadata": {
        "id": "54PqZKGdtyFp"
      },
      "source": [
        "# TEMA - Triple Exponential Moving Average\n",
        "df_part['tema'] = ta.TEMA(df_part.close, 9)\n",
        "tema = mpf.make_addplot(df_part[\"tema\"], panel=0, ylabel='tema', color='c', markersize=150)\n",
        "add_plots.append(tema)"
      ],
      "execution_count": null,
      "outputs": []
    },
    {
      "cell_type": "code",
      "metadata": {
        "id": "PhWOmSzttyO_"
      },
      "source": [
        "#ema10\n",
        "df_part[\"ema10\"] = ta.EMA(df_part.close, 10)\n",
        "ema10 = mpf.make_addplot(df_part[\"ema10\"], panel=0, ylabel='ema10', color='red', markersize=150)\n",
        "add_plots.append(ema10)\n",
        "\n",
        "#ema50\n",
        "df_part[\"ema50\"] = ta.EMA(df_part.close, 50)\n",
        "ema50 = mpf.make_addplot(df_part[\"ema50\"], panel=0, ylabel='ema50', color='orange', markersize=150)\n",
        "add_plots.append(ema50)\n"
      ],
      "execution_count": null,
      "outputs": []
    },
    {
      "cell_type": "code",
      "metadata": {
        "id": "q-F9AUU_1AkP"
      },
      "source": [
        "# Bollinger Bands\n",
        "df_part[\"bb_upperband\"], df_part[\"bb_middleband\"], df_part[\"bb_lowerband\"] =ta.BBANDS(df_part.close, 20, 2, 2)\n",
        "\n",
        "bb_upperband = mpf.make_addplot(df_part[\"bb_upperband\"], panel=0, ylabel='bb_upperband', color='red',\n",
        "                                linestyle='dashdot')\n",
        "add_plots.append(bb_upperband)\n",
        "\n",
        "bb_middleband = mpf.make_addplot(df_part[\"bb_middleband\"], panel=0, ylabel='bb_middleband',\n",
        "                                  color='blue',\n",
        "                                  linestyle='dashdot')\n",
        "add_plots.append(bb_middleband)\n",
        "\n",
        "bb_lowerband = mpf.make_addplot(df_part[\"bb_lowerband\"], panel=0, ylabel='bb_lowerband',\n",
        "                                color='darkgreen',\n",
        "                                linestyle='dashdot')\n",
        "add_plots.append(bb_lowerband)"
      ],
      "execution_count": null,
      "outputs": []
    },
    {
      "cell_type": "code",
      "metadata": {
        "id": "AXdPqVWMtyXH"
      },
      "source": [
        "# df_part.loc[\n",
        "# (\n",
        "#   (df_part['ema10'] > df_part['ema50'])&\n",
        "#   (df_part['tema'] >= df_part['ema50'] + df_part['ema50'] * 0.0005)&\n",
        "#   (df_part['tema'] > df_part['ema10']) &\n",
        "#   (df_part['low'] < df_part['ema50']) &\n",
        "#   (df_part['slowk'] < 75) &\n",
        "#   (df_part['slowk'] > df_part['slowd'])\n",
        "# ),\n",
        "# \"open_indicator\"] = 1\n",
        "# print(df_part.head())\n"
      ],
      "execution_count": null,
      "outputs": []
    },
    {
      "cell_type": "code",
      "metadata": {
        "colab": {
          "base_uri": "https://localhost:8080/"
        },
        "id": "i_QHB-ba99Xp",
        "outputId": "6ff646f9-2be2-4297-ce65-6fa3498f3755"
      },
      "source": [
        "df_part.loc[\n",
        "(\n",
        "  (df_part['tema'] >= df_part['ema50'] + df_part['ema50'] * 0.0005)&\n",
        "  (df_part['slowk'] > 40)&\n",
        "  (df_part['rsi14'] > 30)&\n",
        "  (df_part['rsi14'].shift(1) < df_part['rsi14'])&\n",
        "  # (df_part['ema10'].shift(1) < df_part['ema10'])&\n",
        "  (df_part['tema'].shift(1) < df_part['tema'])&\n",
        "  (df_part['low'] > df_part['bb_lowerband']) &\n",
        "  (df_part['high'] < df_part['bb_middleband']) &\n",
        "  (\n",
        "    (df_part['low'].shift(1)  <= df_part['bb_lowerband'].shift(1)) | \n",
        "    (df_part['low'].shift(2)  <= df_part['bb_lowerband'].shift(2)) |\n",
        "    (df_part['low'].shift(3)  <= df_part['bb_lowerband'].shift(3)) |\n",
        "    (df_part['low'].shift(4)  <= df_part['bb_lowerband'].shift(4))\n",
        "  )\n",
        "),\n",
        "\"open_indicator\"] = 1\n",
        "print(df_part[df_part[\"open_indicator\"] == 1].head())"
      ],
      "execution_count": null,
      "outputs": [
        {
          "output_type": "stream",
          "text": [
            "               date     open  ...  bb_lowerband  open_indicator\n",
            "678   1609499880000  38.7125  ...     38.651124             1.0\n",
            "679   1609499940000  38.7259  ...     38.647069             1.0\n",
            "680   1609500000000  38.7547  ...     38.645652             1.0\n",
            "2371  1609601460000  38.0942  ...     38.068003             1.0\n",
            "3756  1609684560000  41.0045  ...     40.872015             1.0\n",
            "\n",
            "[5 rows x 17 columns]\n"
          ],
          "name": "stdout"
        }
      ]
    },
    {
      "cell_type": "code",
      "metadata": {
        "colab": {
          "base_uri": "https://localhost:8080/"
        },
        "id": "CThLXqLQH0yO",
        "outputId": "2e158731-6a5b-4c4d-d40c-d92cc3db5d7b"
      },
      "source": [
        "df_part[\"won\"] =  np.nan\n",
        "for i, cell in enumerate(df_part.iterrows()):\n",
        "    if cell[1][\"open_indicator\"] > 0:\n",
        "        open_price = cell[1][\"open\"]\n",
        "        for c, r in df_part.iloc[i+1:i+120].iterrows():\n",
        "            if r[\"open\"] < open_price - open_price*0.005:\n",
        "                break\n",
        "            if r[\"open\"] >= open_price + open_price*0.005:\n",
        "                df_part.at[cell[0], \"won\"] = 1\n",
        "                break\n",
        "print(df_part[df_part[\"open_indicator\"] == 1].head())\n",
        "print(df_part[df_part[\"won\"] == 1].head())\n"
      ],
      "execution_count": null,
      "outputs": [
        {
          "output_type": "stream",
          "text": [
            "               date     open     high  ...  bb_lowerband  open_indicator  won\n",
            "678   1609499880000  38.7125  38.7370  ...     38.651124             1.0  NaN\n",
            "679   1609499940000  38.7259  38.7656  ...     38.647069             1.0  NaN\n",
            "680   1609500000000  38.7547  38.7821  ...     38.645652             1.0  NaN\n",
            "2371  1609601460000  38.0942  38.1100  ...     38.068003             1.0  1.0\n",
            "3756  1609684560000  41.0045  41.0900  ...     40.872015             1.0  NaN\n",
            "\n",
            "[5 rows x 18 columns]\n",
            "               date     open     high  ...  bb_lowerband  open_indicator  won\n",
            "2371  1609601460000  38.0942  38.1100  ...     38.068003             1.0  1.0\n",
            "5425  1609784700000  39.6512  39.6800  ...     39.564646             1.0  1.0\n",
            "6274  1609835640000  39.9462  39.9895  ...     39.868631             1.0  1.0\n",
            "7100  1609885200000  40.7984  40.8064  ...     40.744386             1.0  1.0\n",
            "7102  1609885320000  40.8025  40.8239  ...     40.741286             1.0  1.0\n",
            "\n",
            "[5 rows x 18 columns]\n"
          ],
          "name": "stdout"
        }
      ]
    },
    {
      "cell_type": "code",
      "metadata": {
        "colab": {
          "base_uri": "https://localhost:8080/",
          "height": 595
        },
        "id": "HsfLYirVkAQL",
        "outputId": "46a0c7a1-492c-4078-c754-b13dd99475bf"
      },
      "source": [
        "nbr_open_indicator = len(df_part[df_part[\"open_indicator\"]==1])\n",
        "nbr_won= len(df_part[df_part[\"won\"]==1])\n",
        "\n",
        "form = datetime.fromtimestamp(df_part[0][\"date\"])\n",
        "print(f\"from: {form}\")\n",
        "print(f\"won: {1 + (nbr_won / nbr_open_indicator) * 100}%\")\n"
      ],
      "execution_count": null,
      "outputs": [
        {
          "output_type": "error",
          "ename": "KeyError",
          "evalue": "ignored",
          "traceback": [
            "\u001b[0;31m---------------------------------------------------------------------------\u001b[0m",
            "\u001b[0;31mKeyError\u001b[0m                                  Traceback (most recent call last)",
            "\u001b[0;32m/usr/local/lib/python3.7/dist-packages/pandas/core/indexes/base.py\u001b[0m in \u001b[0;36mget_loc\u001b[0;34m(self, key, method, tolerance)\u001b[0m\n\u001b[1;32m   2897\u001b[0m             \u001b[0;32mtry\u001b[0m\u001b[0;34m:\u001b[0m\u001b[0;34m\u001b[0m\u001b[0;34m\u001b[0m\u001b[0m\n\u001b[0;32m-> 2898\u001b[0;31m                 \u001b[0;32mreturn\u001b[0m \u001b[0mself\u001b[0m\u001b[0;34m.\u001b[0m\u001b[0m_engine\u001b[0m\u001b[0;34m.\u001b[0m\u001b[0mget_loc\u001b[0m\u001b[0;34m(\u001b[0m\u001b[0mcasted_key\u001b[0m\u001b[0;34m)\u001b[0m\u001b[0;34m\u001b[0m\u001b[0;34m\u001b[0m\u001b[0m\n\u001b[0m\u001b[1;32m   2899\u001b[0m             \u001b[0;32mexcept\u001b[0m \u001b[0mKeyError\u001b[0m \u001b[0;32mas\u001b[0m \u001b[0merr\u001b[0m\u001b[0;34m:\u001b[0m\u001b[0;34m\u001b[0m\u001b[0;34m\u001b[0m\u001b[0m\n",
            "\u001b[0;32mpandas/_libs/index.pyx\u001b[0m in \u001b[0;36mpandas._libs.index.IndexEngine.get_loc\u001b[0;34m()\u001b[0m\n",
            "\u001b[0;32mpandas/_libs/index.pyx\u001b[0m in \u001b[0;36mpandas._libs.index.IndexEngine.get_loc\u001b[0;34m()\u001b[0m\n",
            "\u001b[0;32mpandas/_libs/hashtable_class_helper.pxi\u001b[0m in \u001b[0;36mpandas._libs.hashtable.PyObjectHashTable.get_item\u001b[0;34m()\u001b[0m\n",
            "\u001b[0;32mpandas/_libs/hashtable_class_helper.pxi\u001b[0m in \u001b[0;36mpandas._libs.hashtable.PyObjectHashTable.get_item\u001b[0;34m()\u001b[0m\n",
            "\u001b[0;31mKeyError\u001b[0m: 0",
            "\nThe above exception was the direct cause of the following exception:\n",
            "\u001b[0;31mKeyError\u001b[0m                                  Traceback (most recent call last)",
            "\u001b[0;32m<ipython-input-916-9bf5dea716ab>\u001b[0m in \u001b[0;36m<module>\u001b[0;34m()\u001b[0m\n\u001b[1;32m      2\u001b[0m \u001b[0mnbr_won\u001b[0m\u001b[0;34m=\u001b[0m \u001b[0mlen\u001b[0m\u001b[0;34m(\u001b[0m\u001b[0mdf_part\u001b[0m\u001b[0;34m[\u001b[0m\u001b[0mdf_part\u001b[0m\u001b[0;34m[\u001b[0m\u001b[0;34m\"won\"\u001b[0m\u001b[0;34m]\u001b[0m\u001b[0;34m==\u001b[0m\u001b[0;36m1\u001b[0m\u001b[0;34m]\u001b[0m\u001b[0;34m)\u001b[0m\u001b[0;34m\u001b[0m\u001b[0;34m\u001b[0m\u001b[0m\n\u001b[1;32m      3\u001b[0m \u001b[0;34m\u001b[0m\u001b[0m\n\u001b[0;32m----> 4\u001b[0;31m \u001b[0mform\u001b[0m \u001b[0;34m=\u001b[0m \u001b[0mdatetime\u001b[0m\u001b[0;34m.\u001b[0m\u001b[0mfromtimestamp\u001b[0m\u001b[0;34m(\u001b[0m\u001b[0mdf_part\u001b[0m\u001b[0;34m[\u001b[0m\u001b[0;36m0\u001b[0m\u001b[0;34m]\u001b[0m\u001b[0;34m[\u001b[0m\u001b[0;34m\"date\"\u001b[0m\u001b[0;34m]\u001b[0m\u001b[0;34m)\u001b[0m\u001b[0;34m\u001b[0m\u001b[0;34m\u001b[0m\u001b[0m\n\u001b[0m\u001b[1;32m      5\u001b[0m \u001b[0mprint\u001b[0m\u001b[0;34m(\u001b[0m\u001b[0;34mf\"from: {form}\"\u001b[0m\u001b[0;34m)\u001b[0m\u001b[0;34m\u001b[0m\u001b[0;34m\u001b[0m\u001b[0m\n\u001b[1;32m      6\u001b[0m \u001b[0mprint\u001b[0m\u001b[0;34m(\u001b[0m\u001b[0;34mf\"won: {1 + (nbr_won / nbr_open_indicator) * 100}%\"\u001b[0m\u001b[0;34m)\u001b[0m\u001b[0;34m\u001b[0m\u001b[0;34m\u001b[0m\u001b[0m\n",
            "\u001b[0;32m/usr/local/lib/python3.7/dist-packages/pandas/core/frame.py\u001b[0m in \u001b[0;36m__getitem__\u001b[0;34m(self, key)\u001b[0m\n\u001b[1;32m   2904\u001b[0m             \u001b[0;32mif\u001b[0m \u001b[0mself\u001b[0m\u001b[0;34m.\u001b[0m\u001b[0mcolumns\u001b[0m\u001b[0;34m.\u001b[0m\u001b[0mnlevels\u001b[0m \u001b[0;34m>\u001b[0m \u001b[0;36m1\u001b[0m\u001b[0;34m:\u001b[0m\u001b[0;34m\u001b[0m\u001b[0;34m\u001b[0m\u001b[0m\n\u001b[1;32m   2905\u001b[0m                 \u001b[0;32mreturn\u001b[0m \u001b[0mself\u001b[0m\u001b[0;34m.\u001b[0m\u001b[0m_getitem_multilevel\u001b[0m\u001b[0;34m(\u001b[0m\u001b[0mkey\u001b[0m\u001b[0;34m)\u001b[0m\u001b[0;34m\u001b[0m\u001b[0;34m\u001b[0m\u001b[0m\n\u001b[0;32m-> 2906\u001b[0;31m             \u001b[0mindexer\u001b[0m \u001b[0;34m=\u001b[0m \u001b[0mself\u001b[0m\u001b[0;34m.\u001b[0m\u001b[0mcolumns\u001b[0m\u001b[0;34m.\u001b[0m\u001b[0mget_loc\u001b[0m\u001b[0;34m(\u001b[0m\u001b[0mkey\u001b[0m\u001b[0;34m)\u001b[0m\u001b[0;34m\u001b[0m\u001b[0;34m\u001b[0m\u001b[0m\n\u001b[0m\u001b[1;32m   2907\u001b[0m             \u001b[0;32mif\u001b[0m \u001b[0mis_integer\u001b[0m\u001b[0;34m(\u001b[0m\u001b[0mindexer\u001b[0m\u001b[0;34m)\u001b[0m\u001b[0;34m:\u001b[0m\u001b[0;34m\u001b[0m\u001b[0;34m\u001b[0m\u001b[0m\n\u001b[1;32m   2908\u001b[0m                 \u001b[0mindexer\u001b[0m \u001b[0;34m=\u001b[0m \u001b[0;34m[\u001b[0m\u001b[0mindexer\u001b[0m\u001b[0;34m]\u001b[0m\u001b[0;34m\u001b[0m\u001b[0;34m\u001b[0m\u001b[0m\n",
            "\u001b[0;32m/usr/local/lib/python3.7/dist-packages/pandas/core/indexes/base.py\u001b[0m in \u001b[0;36mget_loc\u001b[0;34m(self, key, method, tolerance)\u001b[0m\n\u001b[1;32m   2898\u001b[0m                 \u001b[0;32mreturn\u001b[0m \u001b[0mself\u001b[0m\u001b[0;34m.\u001b[0m\u001b[0m_engine\u001b[0m\u001b[0;34m.\u001b[0m\u001b[0mget_loc\u001b[0m\u001b[0;34m(\u001b[0m\u001b[0mcasted_key\u001b[0m\u001b[0;34m)\u001b[0m\u001b[0;34m\u001b[0m\u001b[0;34m\u001b[0m\u001b[0m\n\u001b[1;32m   2899\u001b[0m             \u001b[0;32mexcept\u001b[0m \u001b[0mKeyError\u001b[0m \u001b[0;32mas\u001b[0m \u001b[0merr\u001b[0m\u001b[0;34m:\u001b[0m\u001b[0;34m\u001b[0m\u001b[0;34m\u001b[0m\u001b[0m\n\u001b[0;32m-> 2900\u001b[0;31m                 \u001b[0;32mraise\u001b[0m \u001b[0mKeyError\u001b[0m\u001b[0;34m(\u001b[0m\u001b[0mkey\u001b[0m\u001b[0;34m)\u001b[0m \u001b[0;32mfrom\u001b[0m \u001b[0merr\u001b[0m\u001b[0;34m\u001b[0m\u001b[0;34m\u001b[0m\u001b[0m\n\u001b[0m\u001b[1;32m   2901\u001b[0m \u001b[0;34m\u001b[0m\u001b[0m\n\u001b[1;32m   2902\u001b[0m         \u001b[0;32mif\u001b[0m \u001b[0mtolerance\u001b[0m \u001b[0;32mis\u001b[0m \u001b[0;32mnot\u001b[0m \u001b[0;32mNone\u001b[0m\u001b[0;34m:\u001b[0m\u001b[0;34m\u001b[0m\u001b[0;34m\u001b[0m\u001b[0m\n",
            "\u001b[0;31mKeyError\u001b[0m: 0"
          ]
        }
      ]
    },
    {
      "cell_type": "code",
      "metadata": {
        "id": "37OzBVM-mIPy"
      },
      "source": [
        "df_part['date_ms'] = pd.to_datetime(df_part['date'], unit='ms')\n",
        "df_part.set_index('date_ms', inplace=True, drop=True)"
      ],
      "execution_count": null,
      "outputs": []
    },
    {
      "cell_type": "code",
      "metadata": {
        "colab": {
          "base_uri": "https://localhost:8080/"
        },
        "id": "UXejG1Z813Q1",
        "outputId": "00a98a41-8f09-4bce-a362-accfe5f4cab7"
      },
      "source": [
        "add_flag(df_part, add_plots, \"close_indicator\", \"high\", \"red\", \"v\", True)\n",
        "add_flag(df_part, add_plots, \"open_indicator\", \"low\", \"green\", \"^\", False)\n",
        "add_flag(df_part, add_plots, \"won\", \"low\", \"purple\", \"*\", False)"
      ],
      "execution_count": null,
      "outputs": [
        {
          "output_type": "stream",
          "text": [
            "/usr/local/lib/python3.7/dist-packages/ipykernel_launcher.py:14: SettingWithCopyWarning: \n",
            "A value is trying to be set on a copy of a slice from a DataFrame\n",
            "\n",
            "See the caveats in the documentation: https://pandas.pydata.org/pandas-docs/stable/user_guide/indexing.html#returning-a-view-versus-a-copy\n",
            "  \n",
            "/usr/local/lib/python3.7/dist-packages/ipykernel_launcher.py:14: SettingWithCopyWarning: \n",
            "A value is trying to be set on a copy of a slice from a DataFrame\n",
            "\n",
            "See the caveats in the documentation: https://pandas.pydata.org/pandas-docs/stable/user_guide/indexing.html#returning-a-view-versus-a-copy\n",
            "  \n"
          ],
          "name": "stderr"
        }
      ]
    },
    {
      "cell_type": "code",
      "metadata": {
        "id": "FKPX7eUTtydn"
      },
      "source": [
        "# pkwargs = dict(type='candle', style='starsandstripes', addplot=add_plots)\n",
        "# mpf.plot(df_part, figscale=2.5, volume=False,returnfig=True,**pkwargs)"
      ],
      "execution_count": null,
      "outputs": []
    }
  ]
}